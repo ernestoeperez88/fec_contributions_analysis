{
 "cells": [
  {
   "cell_type": "markdown",
   "metadata": {},
   "source": [
    "# Setup"
   ]
  },
  {
   "cell_type": "markdown",
   "metadata": {},
   "source": [
    "Setting up environment by importing necessary libraries and initializing Spark."
   ]
  },
  {
   "cell_type": "code",
   "execution_count": 1,
   "metadata": {
    "collapsed": false
   },
   "outputs": [],
   "source": [
    "from local_install import setup_environment\n",
    "setup_environment()"
   ]
  },
  {
   "cell_type": "code",
   "execution_count": 2,
   "metadata": {
    "collapsed": false
   },
   "outputs": [
    {
     "name": "stdout",
     "output_type": "stream",
     "text": [
      "Populating the interactive namespace from numpy and matplotlib\n",
      "Populating the interactive namespace from numpy and matplotlib\n"
     ]
    }
   ],
   "source": [
    "import folium\n",
    "import pyspark\n",
    "from pyspark.sql.types import *\n",
    "import matplotlib.pyplot as plt\n",
    "import numpy as np\n",
    "import os\n",
    "%pylab inline\n",
    "%pylab notebook"
   ]
  },
  {
   "cell_type": "code",
   "execution_count": 3,
   "metadata": {
    "collapsed": false
   },
   "outputs": [],
   "source": [
    "sc = pyspark.SparkContext()\n",
    "sql = pyspark.sql.SQLContext(sc)"
   ]
  },
  {
   "cell_type": "markdown",
   "metadata": {
    "collapsed": true
   },
   "source": [
    "Load data into dataframes."
   ]
  },
  {
   "cell_type": "code",
   "execution_count": 4,
   "metadata": {
    "collapsed": true
   },
   "outputs": [],
   "source": [
    "root_path = \"./data\"\n",
    "\n",
    "# file_struct objects\n",
    "com_file = {'header': \"cm_header_file.csv\", 'data': \"cm.txt\" }\n",
    "can_file = {'header': \"cn_header_file.csv\", 'data': \"cn.txt\" }\n",
    "com_can_link_file = {'header': \"ccl_header_file.csv\", 'data': \"ccl.txt\" }\n",
    "indv_file = {'header': \"indiv_header_file.csv\", 'data': \"itcont.txt\" }\n",
    "pas_file = {'header': \"pas2_header_file.csv\", 'data': \"itpas2.txt\" }\n",
    "com_links_file = {'header': \"oth_header_file.csv\", 'data': \"itoth.txt\" }\n",
    "\n",
    "def load_header(filename):\n",
    "    \"\"\"\n",
    "    Given a header .csv file, return a list containing the names of all columns in the table.\n",
    "    \n",
    "    Input:\n",
    "    filename: a string specifying the header .csv file to load\n",
    "    \n",
    "    Output:\n",
    "    A list containing column names of the table\n",
    "    \"\"\"\n",
    "    with open(filename, \"r\") as f:\n",
    "        return [r.replace('\\r\\n','') for r in f.readline().split(\",\")]\n",
    "    \n",
    "def load_dataframe(file_struct):\n",
    "    \"\"\"\n",
    "    Given a dictionary representing the locations of FEC raw files corresponding to a table,\n",
    "    load the tables into a Spark DataFrame.\n",
    "    \n",
    "    Input:\n",
    "    file_struct: a dictionary containing the keys 'header' and 'data', where\n",
    "     'header' contains the name of the `.csv` file specifying the table header file, and\n",
    "     'data' contains the name of the `.txt` file specifying the table data file\n",
    "     \n",
    "    Output:\n",
    "    A DataFrame which contains the loaded data.\n",
    "    \"\"\"\n",
    "    df = None\n",
    "    \n",
    "    lines = sc.textFile(root_path + \"/\" + file_struct['data'])\n",
    "    data = lines.map(lambda x: tuple(cell.strip() for cell in x.split(\"|\")))\n",
    "    \n",
    "    fields = [StructField(field_name, StringType(), True) for field_name in load_header(root_path + \"/\" + file_struct['header'])]\n",
    "    schema = StructType(fields)\n",
    "    \n",
    "    df = sql.createDataFrame(data, schema)\n",
    "    return df.cache()"
   ]
  },
  {
   "cell_type": "markdown",
   "metadata": {
    "collapsed": true
   },
   "source": [
    "Initialize dataframes and register temporary SQL tables."
   ]
  },
  {
   "cell_type": "code",
   "execution_count": 5,
   "metadata": {
    "collapsed": true
   },
   "outputs": [],
   "source": [
    "com = load_dataframe(com_file)\n",
    "can = load_dataframe(can_file)\n",
    "links = load_dataframe(com_can_link_file)\n",
    "indv = load_dataframe(indv_file)\n",
    "pas = load_dataframe(pas_file)\n",
    "com_links = load_dataframe(com_links_file)"
   ]
  },
  {
   "cell_type": "code",
   "execution_count": 6,
   "metadata": {
    "collapsed": true
   },
   "outputs": [],
   "source": [
    "com.registerTempTable(\"com\")\n",
    "can.registerTempTable(\"can\")\n",
    "links.registerTempTable(\"links\")\n",
    "indv.registerTempTable(\"indv\")\n",
    "pas.registerTempTable(\"pas\")\n",
    "com_links.registerTempTable(\"com_links\")"
   ]
  },
  {
   "cell_type": "markdown",
   "metadata": {},
   "source": [
    "# Data Exploration\n",
    "\n",
    "Let's query for information corresponding to the strings \"Clinton\", \"Sanders\", \"Trump\", and \"Cruz\"."
   ]
  },
  {
   "cell_type": "code",
   "execution_count": 7,
   "metadata": {
    "collapsed": false
   },
   "outputs": [
    {
     "name": "stdout",
     "output_type": "stream",
     "text": [
      "+---------+-----------------------------------+-----------+-----------+\n",
      "|CAND_ID  |CAND_NAME                          |CAND_STATUS|CAND_OFFICE|\n",
      "+---------+-----------------------------------+-----------+-----------+\n",
      "|H2CA24153|THAYNE, DAVID CRUZ                 |P          |H          |\n",
      "|H2MI08105|HETRICK, BRIAN CLINTON             |N          |H          |\n",
      "|H2TX33123|SANDERS, KENNETH                   |P          |H          |\n",
      "|H6HI01287|DELACRUZ SANTIAGO OSTROV, SHIRLENE |N          |H          |\n",
      "|H6NY05051|SANDERS, JAMES JR                  |C          |H          |\n",
      "|H6NY09137|SANDERS, JAIME                     |N          |H          |\n",
      "|H8OH02041|SANDERS, CHARLES W                 |P          |H          |\n",
      "|P00003392|CLINTON, HILLARY RODHAM            |C          |P          |\n",
      "|P60006111|CRUZ, RAFAEL EDWARD \"TED\"          |C          |P          |\n",
      "|P60007168|SANDERS, BERNARD                   |C          |P          |\n",
      "|P60012184|BALLSACK, DONALD TRUMP'S HAIRY KING|N          |P          |\n",
      "|P60012333|CLINTON, BILL                      |N          |P          |\n",
      "|P60013265|TRUMP, SELAM MRS.                  |N          |P          |\n",
      "|P60018835|TRUMP, THE MUSLIM DICTATOR         |N          |P          |\n",
      "|P60018991|TRUMP, DON'T VOTE FOR              |N          |P          |\n",
      "|P80001571|TRUMP, DONALD J.                   |C          |P          |\n",
      "|P80004310|SANDERS, COLONEL LAUNEIL           |N          |P          |\n",
      "|S0AZ00236|CRUZADO, LOUIS MICHAEL             |N          |S          |\n",
      "|S0NY00188|CLINTON, HILLARY RODHAM            |P          |S          |\n",
      "|S2TX00312|CRUZ, RAFAEL EDWARD TED            |F          |S          |\n",
      "+---------+-----------------------------------+-----------+-----------+\n",
      "only showing top 20 rows\n",
      "\n"
     ]
    }
   ],
   "source": [
    "front_runners = sql.sql(\"\"\"\n",
    "SELECT CAND_ID, CAND_NAME, CAND_STATUS, CAND_OFFICE\n",
    "FROM can\n",
    "WHERE CAND_NAME LIKE \"%CLINTON%\"\n",
    "OR CAND_NAME LIKE \"%SANDERS%\"\n",
    "OR CAND_NAME LIKE \"%TRUMP%\"\n",
    "OR CAND_NAME LIKE \"%CRUZ%\"\n",
    "\"\"\")\n",
    "front_runners.registerTempTable(\"fr\")\n",
    "front_runners.show(truncate=False)"
   ]
  },
  {
   "cell_type": "markdown",
   "metadata": {},
   "source": [
    "Our query results in more candidates than the ones we are looking for. To extract the front-runners we filter using the candidate's office and status."
   ]
  },
  {
   "cell_type": "code",
   "execution_count": 9,
   "metadata": {
    "collapsed": false
   },
   "outputs": [
    {
     "name": "stdout",
     "output_type": "stream",
     "text": [
      "+---------+-------------------------+---------+\n",
      "|CAND_ID  |CAND_NAME                |CAND_PCC |\n",
      "+---------+-------------------------+---------+\n",
      "|P00003392|CLINTON, HILLARY RODHAM  |C00575795|\n",
      "|P60006111|CRUZ, RAFAEL EDWARD \"TED\"|C00574624|\n",
      "|P60007168|SANDERS, BERNARD         |C00577130|\n",
      "|P80001571|TRUMP, DONALD J.         |C00580100|\n",
      "+---------+-------------------------+---------+\n",
      "\n"
     ]
    }
   ],
   "source": [
    "front_runners = sql.sql(\"\"\"\n",
    "SELECT CAND_ID, CAND_NAME, CAND_PCC\n",
    "FROM can\n",
    "WHERE CAND_STATUS=\"C\" AND CAND_OFFICE=\"P\" AND \n",
    "( CAND_NAME LIKE \"%CLINTON%\"\n",
    "OR CAND_NAME LIKE \"%SANDERS%\"\n",
    "OR CAND_NAME LIKE \"%TRUMP%\"\n",
    "OR CAND_NAME LIKE \"%CRUZ%\") \n",
    "\"\"\")\n",
    "front_runners.registerTempTable(\"front_runners\")\n",
    "q1 = front_runners.select(\"CAND_ID\", \"CAND_NAME\", \"CAND_PCC\")\n",
    "q1.show(truncate=False)"
   ]
  },
  {
   "cell_type": "markdown",
   "metadata": {},
   "source": [
    "The following query gives us the number of contributions by individuals that each front-runner's principal campaign committee has received."
   ]
  },
  {
   "cell_type": "code",
   "execution_count": 11,
   "metadata": {
    "collapsed": false
   },
   "outputs": [
    {
     "name": "stdout",
     "output_type": "stream",
     "text": [
      "+---------+-------------------------+------+\n",
      "|CAND_ID  |CAND_NAME                |count |\n",
      "+---------+-------------------------+------+\n",
      "|P60006111|CRUZ, RAFAEL EDWARD \"TED\"|427898|\n",
      "|P80001571|TRUMP, DONALD J.         |40204 |\n",
      "|P60007168|SANDERS, BERNARD         |882781|\n",
      "|P00003392|CLINTON, HILLARY RODHAM  |406413|\n",
      "+---------+-------------------------+------+\n",
      "\n"
     ]
    }
   ],
   "source": [
    "num_indv_contributions = sql.sql(\"\"\"\n",
    "SELECT CAND_ID, CAND_NAME, COUNT(*) AS count\n",
    "FROM indv JOIN front_runners ON CAND_PCC=CMTE_ID\n",
    "GROUP BY CAND_ID,CAND_NAME\n",
    "\"\"\")\n",
    "\n",
    "q2 = num_indv_contributions.select(\"CAND_ID\", \"CAND_NAME\", \"count\")\n",
    "q2.show(truncate=False)"
   ]
  },
  {
   "cell_type": "markdown",
   "metadata": {},
   "source": [
    "... and the total amount corresponding to these contributions. "
   ]
  },
  {
   "cell_type": "code",
   "execution_count": 12,
   "metadata": {
    "collapsed": false
   },
   "outputs": [
    {
     "name": "stdout",
     "output_type": "stream",
     "text": [
      "+---------+-------------------------+-----------+\n",
      "|CAND_ID  |CAND_NAME                |SUM        |\n",
      "+---------+-------------------------+-----------+\n",
      "|P60006111|CRUZ, RAFAEL EDWARD \"TED\"|5.6260943E7|\n",
      "|P80001571|TRUMP, DONALD J.         |1.4911975E7|\n",
      "|P60007168|SANDERS, BERNARD         |6.0064248E7|\n",
      "|P00003392|CLINTON, HILLARY RODHAM  |1.5295141E8|\n",
      "+---------+-------------------------+-----------+\n",
      "\n"
     ]
    }
   ],
   "source": [
    "indv_contributions_amt = sql.sql(\"\"\"\n",
    "SELECT CAND_ID, CAND_NAME, SUM(TRANSACTION_AMT) AS SUM\n",
    "FROM indv JOIN front_runners ON CAND_PCC=CMTE_ID\n",
    "GROUP BY CAND_ID,CAND_NAME\n",
    "\"\"\")\n",
    "\n",
    "q3 = indv_contributions_amt.select(\"CAND_ID\", \"CAND_NAME\", \"SUM\")\n",
    "q3.show(truncate=False)"
   ]
  },
  {
   "cell_type": "markdown",
   "metadata": {},
   "source": [
    "This query shows the committees linked to each of the front-runners. "
   ]
  },
  {
   "cell_type": "code",
   "execution_count": 13,
   "metadata": {
    "collapsed": false
   },
   "outputs": [
    {
     "name": "stdout",
     "output_type": "stream",
     "text": [
      "+-------------------------+---------+---------+-------------------------------------------------------------------------------+\n",
      "|CAND_NAME                |CAND_ID  |CMTE_ID  |CMTE_NM                                                                        |\n",
      "+-------------------------+---------+---------+-------------------------------------------------------------------------------+\n",
      "|CLINTON, HILLARY RODHAM  |P00003392|C00577395|PEOPLE IN COMMAND/PIC                                                          |\n",
      "|TRUMP, DONALD J.         |P80001571|C00621672|VERMONT TRUMP DELEGATE FUND                                                    |\n",
      "|SANDERS, BERNARD         |P60007168|C00590646|NEW YORK CAPITAL REGION FOR BRINGING ECONOMIC REVOLUTION NOW INSPIRING EVERYONE|\n",
      "|SANDERS, BERNARD         |P60007168|C00612549|LORAIN COUNTY FORWARD                                                          |\n",
      "|CLINTON, HILLARY RODHAM  |P00003392|C00575795|HILLARY FOR AMERICA                                                            |\n",
      "|TRUMP, DONALD J.         |P80001571|C00615674|DONALD AND THE PROHET                                                          |\n",
      "|SANDERS, BERNARD         |P60007168|C00587766|SILVER CITY NM FOR BERNIE SANDERS                                              |\n",
      "|SANDERS, BERNARD         |P60007168|C00588707|ITHACA AND TOMPKINS COUNTY FOR BERNIE SANDERS                                  |\n",
      "|SANDERS, BERNARD         |P60007168|C00589937|PROGRESSGJ                                                                     |\n",
      "|SANDERS, BERNARD         |P60007168|C00588434|ROCHESTER FOR PROGRESS                                                         |\n",
      "|SANDERS, BERNARD         |P60007168|C00577130|BERNIE 2016                                                                    |\n",
      "|CRUZ, RAFAEL EDWARD \"TED\"|P60006111|C00574624|CRUZ FOR PRESIDENT                                                             |\n",
      "|SANDERS, BERNARD         |P60007168|C00590828|UPPER VALLEY FOR BERNIE SANDERS                                                |\n",
      "|CRUZ, RAFAEL EDWARD \"TED\"|P60006111|C00612119|CRUZ INFO PRESIDENT                                                            |\n",
      "|CRUZ, RAFAEL EDWARD \"TED\"|P60006111|C00615401|RESTORING LIBERTY''S PROMISE DELEGATE COMMITTEE LLC                            |\n",
      "|SANDERS, BERNARD         |P60007168|C00583708|PROGRESS WV                                                                    |\n",
      "|SANDERS, BERNARD         |P60007168|C00582395|UPSTATE NEW YORK FOR BERNIE SANDERS                                            |\n",
      "|SANDERS, BERNARD         |P60007168|C00590620|LAS CRUCES FOR BERNIE                                                          |\n",
      "|CLINTON, HILLARY RODHAM  |P00003392|C00570978|FUTURE OF AMERICAN LIVES MATTER                                                |\n",
      "|TRUMP, DONALD J.         |P80001571|C00580100|DONALD J. TRUMP FOR PRESIDENT, INC.                                            |\n",
      "+-------------------------+---------+---------+-------------------------------------------------------------------------------+\n",
      "only showing top 20 rows\n",
      "\n"
     ]
    }
   ],
   "source": [
    "linked_committees = sql.sql(\"\"\"\n",
    "SELECT fr.CAND_ID, CAND_NAME, l.CMTE_ID, CMTE_NM\n",
    "FROM front_runners fr\n",
    "JOIN links l\n",
    "ON fr.CAND_ID = l.CAND_ID\n",
    "JOIN com c\n",
    "ON l.CMTE_ID = c.CMTE_ID\n",
    "\"\"\")\n",
    "\n",
    "q4 = linked_committees.select(\"CAND_NAME\", \"CAND_ID\", \"CMTE_ID\", \"CMTE_NM\")\n",
    "q4.show(truncate=False)"
   ]
  },
  {
   "cell_type": "markdown",
   "metadata": {},
   "source": [
    "... the number of contributions by committees that each front-runner has received"
   ]
  },
  {
   "cell_type": "code",
   "execution_count": 15,
   "metadata": {
    "collapsed": false
   },
   "outputs": [
    {
     "name": "stdout",
     "output_type": "stream",
     "text": [
      "+-------------------------+-----+\n",
      "|CAND_NAME                |count|\n",
      "+-------------------------+-----+\n",
      "|CLINTON, HILLARY RODHAM  |6567 |\n",
      "|TRUMP, DONALD J.         |1921 |\n",
      "|SANDERS, BERNARD         |2250 |\n",
      "|CRUZ, RAFAEL EDWARD \"TED\"|1581 |\n",
      "+-------------------------+-----+\n",
      "\n"
     ]
    }
   ],
   "source": [
    "num_com_contributions = sql.sql(\"\"\"\n",
    "SELECT CAND_NAME, COUNT(*) AS count\n",
    "FROM pas JOIN front_runners ON pas.CAND_ID = front_runners.CAND_ID\n",
    "GROUP BY CAND_NAME\n",
    "\"\"\")\n",
    "\n",
    "q5 = num_com_contributions.select(\"CAND_NAME\", \"count\")\n",
    "q5.show(truncate=False)"
   ]
  },
  {
   "cell_type": "markdown",
   "metadata": {},
   "source": [
    "... and the total amount corresponding to these contributions"
   ]
  },
  {
   "cell_type": "code",
   "execution_count": 16,
   "metadata": {
    "collapsed": false
   },
   "outputs": [
    {
     "name": "stdout",
     "output_type": "stream",
     "text": [
      "+-------------------------+-----------+\n",
      "|CAND_NAME                |SUM        |\n",
      "+-------------------------+-----------+\n",
      "|CLINTON, HILLARY RODHAM  |2.4628653E7|\n",
      "|TRUMP, DONALD J.         |4.4360356E7|\n",
      "|SANDERS, BERNARD         |4410791.0  |\n",
      "|CRUZ, RAFAEL EDWARD \"TED\"|2.880968E7 |\n",
      "+-------------------------+-----------+\n",
      "\n"
     ]
    }
   ],
   "source": [
    "com_contributions_amt = sql.sql(\"\"\"\n",
    "SELECT CAND_NAME, SUM(TRANSACTION_AMT) AS SUM\n",
    "FROM pas JOIN front_runners ON pas.CAND_ID = front_runners.CAND_ID\n",
    "GROUP BY CAND_NAME\n",
    "\"\"\")\n",
    "\n",
    "q6 = com_contributions_amt.select(\"CAND_NAME\", \"SUM\")\n",
    "q6.show(truncate=False)"
   ]
  },
  {
   "cell_type": "code",
   "execution_count": null,
   "metadata": {
    "collapsed": true
   },
   "outputs": [],
   "source": []
  }
 ],
 "metadata": {
  "kernelspec": {
   "display_name": "Python 2",
   "language": "python",
   "name": "python2"
  },
  "language_info": {
   "codemirror_mode": {
    "name": "ipython",
    "version": 2
   },
   "file_extension": ".py",
   "mimetype": "text/x-python",
   "name": "python",
   "nbconvert_exporter": "python",
   "pygments_lexer": "ipython2",
   "version": "2.7.11+"
  }
 },
 "nbformat": 4,
 "nbformat_minor": 0
}
